{
 "cells": [
  {
   "cell_type": "code",
   "execution_count": 2,
   "metadata": {},
   "outputs": [
    {
     "name": "stdout",
     "output_type": "stream",
     "text": [
      "Data inserted successfully.\n"
     ]
    }
   ],
   "source": [
    "import requests\n",
    "import json\n",
    "import psycopg2\n",
    "\n",
    "url = \"https://api.sportradar.com/tennis/trial/v3/en/competitions.json\"\n",
    "headers = {\n",
    "    \"accept\": \"application/json\",\n",
    "    \"x-api-key\": \"lCd20Zc6VmbsEyIiMlPso3VOaMzgFxB3wC8k8s3Q\"\n",
    "}\n",
    "response = requests.get(url, headers=headers)\n",
    "data = json.loads(response.text)\n",
    "\n",
    "com_list = []\n",
    "category_list = []  \n",
    "\n",
    "for com in data['competitions']:\n",
    "    com_list.append({\n",
    "        'competition_id': com['id'],\n",
    "        'competition_name': com['name'],\n",
    "        'type': com.get('type'),\n",
    "        'gender': com.get('gender'),\n",
    "        'parent_id': com.get('parent_id'),  # This safely assigns None if key is missing or null\n",
    "        'category_id': com['category']['id']\n",
    "    })\n",
    "\n",
    "    category_list.append({\n",
    "        'category_id': com['category']['id'],\n",
    "        'category_name': com['category']['name']\n",
    "    })\n",
    "\n",
    "\n",
    "# Optional: remove duplicates from category list\n",
    "\n",
    "# Connect to DB\n",
    "conn = psycopg2.connect(\n",
    "    host=\"localhost\",\n",
    "    database=\"sports_radar\",\n",
    "    user=\"postgres\",\n",
    "    password=\"ASkl1289@\"\n",
    ")\n",
    "cur = conn.cursor()\n",
    "\n",
    "# Insert into category table\n",
    "for category in category_list:\n",
    "    cur.execute(\n",
    "        \"INSERT INTO sports_radar_schema.category (category_id, category_name) VALUES (%s, %s) ON CONFLICT (category_id) DO NOTHING\",\n",
    "        (category['category_id'], category['category_name'])\n",
    "    )\n",
    "\n",
    "# Insert into competition table\n",
    "for comp in com_list:\n",
    "    cur.execute(        \n",
    "        \"INSERT INTO sports_radar_schema.competition (competition_id, competition_name, type, gender, category_id,parent_id) VALUES (%s, %s, %s, %s, %s,%s)\",\n",
    "        (\n",
    "            comp['competition_id'],\n",
    "            comp['competition_name'],\n",
    "            comp['type'],\n",
    "            comp['gender'],\n",
    "            comp['category_id'],\n",
    "            comp['parent_id']\n",
    "        )\n",
    "    )\n",
    "\n",
    "\n",
    "# Commit and close\n",
    "conn.commit()\n",
    "cur.close()\n",
    "conn.close()\n",
    "\n",
    "print(\"Data inserted successfully.\")\n"
   ]
  }
 ],
 "metadata": {
  "kernelspec": {
   "display_name": ".venv",
   "language": "python",
   "name": "python3"
  },
  "language_info": {
   "codemirror_mode": {
    "name": "ipython",
    "version": 3
   },
   "file_extension": ".py",
   "mimetype": "text/x-python",
   "name": "python",
   "nbconvert_exporter": "python",
   "pygments_lexer": "ipython3",
   "version": "3.13.2"
  }
 },
 "nbformat": 4,
 "nbformat_minor": 2
}
